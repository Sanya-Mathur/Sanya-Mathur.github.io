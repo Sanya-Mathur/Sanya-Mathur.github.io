{
  "nbformat": 4,
  "nbformat_minor": 0,
  "metadata": {
    "colab": {
      "provenance": [],
      "authorship_tag": "ABX9TyMZOayz+iEBsPaKJB4vO3NA",
      "include_colab_link": true
    },
    "kernelspec": {
      "name": "python3",
      "display_name": "Python 3"
    },
    "language_info": {
      "name": "python"
    }
  },
  "cells": [
    {
      "cell_type": "markdown",
      "metadata": {
        "id": "view-in-github",
        "colab_type": "text"
      },
      "source": [
        "<a href=\"https://colab.research.google.com/github/SanyaMathur0411/SanyaMathur0411.github.io/blob/main/numpy.ipynb\" target=\"_parent\"><img src=\"https://colab.research.google.com/assets/colab-badge.svg\" alt=\"Open In Colab\"/></a>"
      ]
    },
    {
      "cell_type": "code",
      "execution_count": null,
      "metadata": {
        "id": "3PpIYnmh9mcd",
        "colab": {
          "base_uri": "https://localhost:8080/"
        },
        "outputId": "5738ad16-28be-4fd8-969e-9a5799f20e70"
      },
      "outputs": [
        {
          "output_type": "stream",
          "name": "stdout",
          "text": [
            "[0.84147098 0.90929743 0.14112001]\n",
            "[1.         1.41421356 1.73205081]\n",
            "[5 7 9]\n",
            "[ 4 10 18]\n",
            "2.0\n",
            "0.816496580927726\n",
            "[[11 12 13]\n",
            " [14 15 16]]\n"
          ]
        }
      ],
      "source": [
        "import numpy as np\n",
        "\n",
        "\n",
        "a = np.array([1, 2, 3])\n",
        "b = np.array([4, 5, 6])\n",
        "\n",
        "\n",
        "print(np.sin(a))\n",
        "print(np.sqrt(a))\n",
        "\n",
        "print(np.add(a, b))\n",
        "print(np.multiply(a, b))\n",
        "\n",
        "\n",
        "print(np.mean(a))\n",
        "print(np.std(a))\n",
        "\n",
        "\n",
        "c = np.array([[1, 2, 3], [4, 5, 6]])\n",
        "print(np.add(c, 10))\n"
      ]
    },
    {
      "cell_type": "code",
      "source": [
        "import numpy as np\n",
        "\n",
        "a=np.zeros((2,4))\n",
        "\n",
        "b=np.ones((3,6))\n",
        "\n",
        "c=np.empty((2,3))\n",
        "\n",
        "d=np.full((2,2), 3)\n",
        "\n",
        "e= np.eye(3,3)\n",
        "\n",
        "f=np.linspace(0, 10, num=4)\n",
        "\n",
        "print(a)\n",
        "\n",
        "print(b)\n",
        "\n",
        "print(c)\n",
        "\n",
        "print(\"d\", d)\n",
        "print(f)"
      ],
      "metadata": {
        "colab": {
          "base_uri": "https://localhost:8080/"
        },
        "id": "-I00Q3jFniMy",
        "outputId": "2172ad62-14fd-4a38-d6c3-c01cfcd37bb9"
      },
      "execution_count": null,
      "outputs": [
        {
          "output_type": "stream",
          "name": "stdout",
          "text": [
            "[[0. 0. 0. 0.]\n",
            " [0. 0. 0. 0.]]\n",
            "[[1. 1. 1. 1. 1. 1.]\n",
            " [1. 1. 1. 1. 1. 1.]\n",
            " [1. 1. 1. 1. 1. 1.]]\n",
            "[[4.81390985e-310 0.00000000e+000 2.05833592e-312]\n",
            " [6.79038654e-313 2.14321575e-312 2.27053550e-312]]\n",
            "d [[3 3]\n",
            " [3 3]]\n",
            "[ 0.          3.33333333  6.66666667 10.        ]\n"
          ]
        }
      ]
    },
    {
      "cell_type": "code",
      "source": [
        "import numpy as np\n",
        "\n",
        "# Create a sample NumPy array\n",
        "data = np.array([[1, 2, 3],\n",
        "                 [4, 5, 6],\n",
        "                 [7, 8, 9]])\n",
        "\n",
        "# Extract and print the third column\n",
        "third_column = data[:, 2]  # Access all rows, column index 2\n",
        "print(third_column)\n"
      ],
      "metadata": {
        "colab": {
          "base_uri": "https://localhost:8080/"
        },
        "id": "BqY3_vg-jQ2q",
        "outputId": "49e06ec9-1a25-45ec-9d82-746cbb9bba20"
      },
      "execution_count": null,
      "outputs": [
        {
          "output_type": "stream",
          "name": "stdout",
          "text": [
            "[3 6 9]\n"
          ]
        }
      ]
    },
    {
      "cell_type": "code",
      "source": [
        "import numpy as np\n",
        "\n",
        "# Create a sample NumPy array\n",
        "data = np.array([[1, 2, 3],\n",
        "                 [4, 5, 6],\n",
        "                 [7, 8, 9]])\n",
        "\n",
        "\n",
        "# Swap the first and last columns\n",
        "data[:, [0, -1]] = data[:, [-1, 0]]\n",
        "\n",
        "print(data)\n",
        "\n",
        "data[:,[0,-1]]=data[:,[-1,0]]"
      ],
      "metadata": {
        "colab": {
          "base_uri": "https://localhost:8080/"
        },
        "id": "oTzJwnfMjp-f",
        "outputId": "c0378b1f-7abf-4d60-89ea-1fa93c27bff7"
      },
      "execution_count": null,
      "outputs": [
        {
          "output_type": "stream",
          "name": "stdout",
          "text": [
            "[[3 2 1]\n",
            " [6 5 4]\n",
            " [9 8 7]]\n"
          ]
        }
      ]
    },
    {
      "cell_type": "code",
      "source": [
        "import numpy as np\n",
        "\n",
        "# Sample array\n",
        "data = np.array([[1, 2, 3],\n",
        "                 [4, 5, 6],\n",
        "                 [7, 8, 9]])\n",
        "\n",
        "# Reverse both rows and columns\n",
        "reversed_data = data[::-1, :]\n",
        "\n",
        "print(reversed_data)\n",
        "reversed_array=data[::-1,::-1]"
      ],
      "metadata": {
        "colab": {
          "base_uri": "https://localhost:8080/"
        },
        "id": "T4gt8xImkUCg",
        "outputId": "63d17b35-7bda-4629-d65f-284aca8d8297"
      },
      "execution_count": null,
      "outputs": [
        {
          "output_type": "stream",
          "name": "stdout",
          "text": [
            "[[7 8 9]\n",
            " [4 5 6]\n",
            " [1 2 3]]\n"
          ]
        }
      ]
    },
    {
      "cell_type": "code",
      "source": [
        "import numpy as np\n",
        "\n",
        "arr = np.array([0, 1, 2, 3, 4, 5])\n",
        "print(arr[::2])  # Output: [0 2 4] (every other element)\n",
        "print(arr[::-1])  # Output: [5 4 3 2 1 0] (reversed array)\n"
      ],
      "metadata": {
        "colab": {
          "base_uri": "https://localhost:8080/"
        },
        "id": "4aSA2-gJkxBe",
        "outputId": "d956df84-b2c1-4f2a-a945-132514620a0c"
      },
      "execution_count": null,
      "outputs": [
        {
          "output_type": "stream",
          "name": "stdout",
          "text": [
            "[0 2 4]\n",
            "[5 4 3 2 1 0]\n"
          ]
        }
      ]
    },
    {
      "cell_type": "code",
      "source": [
        "# Importing numpy as np\n",
        "\n",
        "import numpy as np\n",
        "\n",
        "A = np.array([[6, 1, 1],\n",
        "\n",
        "[4, -2, 5],\n",
        "\n",
        "[2, 8, 7]])\n",
        "\n",
        "# Rank of a matrix\n",
        "\n",
        "print(\"Rank of A:\", np.linalg.matrix_rank(A))\n",
        "\n",
        "# Trace of matrix A\n",
        "\n",
        "print(\"\\nTrace of A:\", np.trace(A))\n",
        "\n",
        "# Determinant of a matrix\n",
        "\n",
        "print(\"\\nDeterminant of A:\", np.linalg.det(A))\n",
        "\n",
        "# Inverse of matrix A\n",
        "\n",
        "print(\"\\nInverse of A:\\n\", np.linalg.inv(A))\n",
        "\n",
        "print(\"\\nMatrix A raised to power 3:\\n\",\n",
        "\n",
        "np.linalg.matrix_power(A, 3))"
      ],
      "metadata": {
        "colab": {
          "base_uri": "https://localhost:8080/"
        },
        "id": "jXRHBeCHQ4gM",
        "outputId": "5f69c3c5-7380-4111-c020-9a5f981a05e2"
      },
      "execution_count": null,
      "outputs": [
        {
          "output_type": "stream",
          "name": "stdout",
          "text": [
            "Rank of A: 3\n",
            "\n",
            "Trace of A: 11\n",
            "\n",
            "Determinant of A: -306.0\n",
            "\n",
            "Inverse of A:\n",
            " [[ 0.17647059 -0.00326797 -0.02287582]\n",
            " [ 0.05882353 -0.13071895  0.08496732]\n",
            " [-0.11764706  0.1503268   0.05228758]]\n",
            "\n",
            "Matrix A raised to power 3:\n",
            " [[336 162 228]\n",
            " [406 162 469]\n",
            " [698 702 905]]\n"
          ]
        }
      ]
    },
    {
      "cell_type": "code",
      "source": [
        "from numpy import random\n",
        "import matplotlib.pyplot as plt\n",
        "import seaborn as sns\n",
        "sns.distplot(random.normal(size=1000), hist=False)\n",
        "plt.show()"
      ],
      "metadata": {
        "colab": {
          "base_uri": "https://localhost:8080/",
          "height": 617
        },
        "id": "3ZcelOM3Sv9r",
        "outputId": "61db8398-b144-4cdb-c87b-338b945aa8a5"
      },
      "execution_count": null,
      "outputs": [
        {
          "output_type": "stream",
          "name": "stderr",
          "text": [
            "<ipython-input-2-f01899b584f3>:4: UserWarning: \n",
            "\n",
            "`distplot` is a deprecated function and will be removed in seaborn v0.14.0.\n",
            "\n",
            "Please adapt your code to use either `displot` (a figure-level function with\n",
            "similar flexibility) or `kdeplot` (an axes-level function for kernel density plots).\n",
            "\n",
            "For a guide to updating your code to use the new functions, please see\n",
            "https://gist.github.com/mwaskom/de44147ed2974457ad6372750bbe5751\n",
            "\n",
            "  sns.distplot(random.normal(size=1000), hist=False)\n"
          ]
        },
        {
          "output_type": "display_data",
          "data": {
            "text/plain": [
              "<Figure size 640x480 with 1 Axes>"
            ],
            "image/png": "[encoded data removed]"
          },
          "metadata": {}
        }
      ]
    },
    {
      "cell_type": "code",
      "source": [
        "from numpy import random\n",
        "x=random.binomial(n=10,p=0.5,size=10)\n",
        "print(x)"
      ],
      "metadata": {
        "colab": {
          "base_uri": "https://localhost:8080/"
        },
        "id": "cdy0fFiuS8bE",
        "outputId": "9353d2ae-7af7-48a2-b146-ca34867e9c92"
      },
      "execution_count": null,
      "outputs": [
        {
          "output_type": "stream",
          "name": "stdout",
          "text": [
            "[5 4 4 6 4 6 4 5 3 5]\n"
          ]
        }
      ]
    },
    {
      "cell_type": "code",
      "source": [
        "# importing numpy library\n",
        "\n",
        "import numpy as np\n",
        "\n",
        "# create numpy 2d-array\n",
        "\n",
        "m = np.array([[1, 2, 3],[2, 3, 4],[4, 5, 6]])\n",
        "\n",
        "print(\"Printing the Original square array:\\n\",m)\n",
        "\n",
        "# finding eigenvalues and eigenvectors\n",
        "\n",
        "w, v = np.linalg.eig(m)\n",
        "\n",
        "# printing eigen values\n",
        "\n",
        "print(\"Printing the Eigen values of the given square array:\\n\",w)\n",
        "\n",
        "# printing eigen vectors\n",
        "\n",
        "print(\"Printing Right eigenvectors of the given square array:\\n\",v)"
      ],
      "metadata": {
        "colab": {
          "base_uri": "https://localhost:8080/"
        },
        "id": "c_3JGy5zXeJV",
        "outputId": "5b94a4e9-e2e0-405c-a64c-5aaef1b90af1"
      },
      "execution_count": null,
      "outputs": [
        {
          "output_type": "stream",
          "name": "stdout",
          "text": [
            "Printing the Original square array:\n",
            " [[1 2 3]\n",
            " [2 3 4]\n",
            " [4 5 6]]\n",
            "Printing the Eigen values of the given square array:\n",
            " [ 1.08309519e+01 -8.30951895e-01  1.01486082e-16]\n",
            "Printing Right eigenvectors of the given square array:\n",
            " [[ 0.34416959  0.72770285  0.40824829]\n",
            " [ 0.49532111  0.27580256 -0.81649658]\n",
            " [ 0.79762415 -0.62799801  0.40824829]]\n"
          ]
        }
      ]
    },
    {
      "cell_type": "code",
      "source": [
        "import numpy as np\n",
        "\n",
        "y = np.array([1, -1, 1, -1])\n",
        "x = np.array([1, 1, -1, -1])\n",
        "\n",
        "result = np.arctan2(y, x)\n",
        "\n",
        "print(result)\n"
      ],
      "metadata": {
        "colab": {
          "base_uri": "https://localhost:8080/"
        },
        "id": "qO79rILRLhhM",
        "outputId": "05b2e351-1526-4ccb-b7b9-0837b086db07"
      },
      "execution_count": null,
      "outputs": [
        {
          "output_type": "stream",
          "name": "stdout",
          "text": [
            "[ 0.78539816 -0.78539816  2.35619449 -2.35619449]\n"
          ]
        }
      ]
    },
    {
      "cell_type": "code",
      "source": [
        "import numpy as np\n",
        "\n",
        "x = np.array([1, 2, 3, 4, 5])\n",
        "y = np.array([6, 7, 8, 9, 10])\n",
        "\n",
        "print(np.power(x, y))\n",
        "\n",
        "print(np.arctan2(x, y))\n",
        "\n",
        "print(np.dot(x, y))\n",
        "\n",
        "print(np.outer(x, y))\n",
        "\n",
        "print(np.lcm(x, y))\n",
        "\n",
        "print(np.gcd(x, y))\n",
        "\n",
        "print(np.mod(x, y))\n",
        "\n",
        "print(np.exp(x))\n",
        "\n",
        "print(np.sin(x))\n",
        "\n",
        "print(np.radians(x))\n",
        "\n",
        "print(np.degrees(x))\n",
        "\n",
        "print(np.std(x))\n",
        "\n",
        "print(np.var(x))\n",
        "\n",
        "print(np.sum(x))\n",
        "\n",
        "\n"
      ],
      "metadata": {
        "colab": {
          "base_uri": "https://localhost:8080/"
        },
        "id": "W79zZvlXLiA8",
        "outputId": "5e393797-080c-40b3-99a7-7c6eeebf275f"
      },
      "execution_count": null,
      "outputs": [
        {
          "output_type": "stream",
          "name": "stdout",
          "text": [
            "[      1     128    6561  262144 9765625]\n",
            "[0.16514868 0.27829966 0.35877067 0.41822433 0.46364761]\n",
            "130\n",
            "[[ 6  7  8  9 10]\n",
            " [12 14 16 18 20]\n",
            " [18 21 24 27 30]\n",
            " [24 28 32 36 40]\n",
            " [30 35 40 45 50]]\n",
            "[ 6 14 24 36 10]\n",
            "[1 1 1 1 5]\n",
            "[1 2 3 4 5]\n",
            "[  2.71828183   7.3890561   20.08553692  54.59815003 148.4131591 ]\n",
            "[ 0.84147098  0.90929743  0.14112001 -0.7568025  -0.95892427]\n",
            "[0.01745329 0.03490659 0.05235988 0.06981317 0.08726646]\n",
            "[ 57.29577951 114.59155903 171.88733854 229.18311805 286.47889757]\n",
            "1.4142135623730951\n",
            "2.0\n",
            "15\n"
          ]
        }
      ]
    },
    {
      "cell_type": "code",
      "source": [
        "import numpy as np\n",
        "arr=np.array([[1,2,3],[4,5,6],[7,8,9]])\n",
        "print (arr.max(axis=1))\n",
        "print (arr.max(axis=0))\n",
        "print (arr.min(axis=1))\n",
        "print (arr.min(axis=0))\n",
        "print (arr.sum())\n",
        "print (arr.sum(axis=1))\n",
        "print (arr.sum(axis=0))"
      ],
      "metadata": {
        "colab": {
          "base_uri": "https://localhost:8080/"
        },
        "id": "3vSfeRfzJxno",
        "outputId": "2dc9c30a-98bd-4b66-93db-de136cd4f65d"
      },
      "execution_count": null,
      "outputs": [
        {
          "output_type": "stream",
          "name": "stdout",
          "text": [
            "[3 6 9]\n",
            "[7 8 9]\n",
            "[1 4 7]\n",
            "[1 2 3]\n",
            "45\n",
            "[ 6 15 24]\n",
            "[12 15 18]\n"
          ]
        }
      ]
    },
    {
      "cell_type": "code",
      "source": [
        "import numpy as np\n",
        "\n",
        "x = np.array([[1, 2, 3], [4, 5, 6]])\n",
        "y = np.array([1, 2, 3, 4, 5])\n",
        "\n",
        "print(x.shape)\n",
        "print(x.size)\n",
        "print(x.ndim)\n",
        "\n",
        "print(y.shape)\n",
        "print(y.size)\n",
        "print(y.ndim)\n"
      ],
      "metadata": {
        "colab": {
          "base_uri": "https://localhost:8080/"
        },
        "id": "yvfypvK4K3R3",
        "outputId": "c20bbc00-89d4-4781-9136-0fc2ed84398f"
      },
      "execution_count": null,
      "outputs": [
        {
          "output_type": "stream",
          "name": "stdout",
          "text": [
            "(2, 3)\n",
            "6\n",
            "2\n",
            "(5,)\n",
            "5\n",
            "1\n"
          ]
        }
      ]
    },
    {
      "cell_type": "code",
      "source": [
        "import numpy as np\n",
        "\n",
        "\n",
        "arr = np.array([[1, 2], [3, 4]])\n",
        "\n",
        "\n",
        "print(\"ndarray.flags:\", arr.flags)\n",
        "print(\"ndarray.shape:\", arr.shape)\n",
        "print(\"ndarray.strides:\", arr.strides)\n",
        "print(\"ndarray.ndim:\", arr.ndim)\n",
        "print(\"ndarray.data:\", arr.data)\n",
        "print(\"ndarray.size:\", arr.size)\n",
        "print(\"ndarray.itemsize:\", arr.itemsize)\n",
        "print(\"ndarray.base:\", arr.base)\n",
        "print(\"ndarray.nbytes:\", arr.nbytes)\n",
        "print(\"ndarray.T:\", arr.T)\n",
        "print(\"ndarray.real:\", arr.real)\n",
        "print(\"ndarray.imag:\", arr.imag)\n"
      ],
      "metadata": {
        "colab": {
          "base_uri": "https://localhost:8080/"
        },
        "id": "wPbiZgVg9z7f",
        "outputId": "710353b6-64db-461b-92c7-1aeabdfd4dee"
      },
      "execution_count": null,
      "outputs": [
        {
          "output_type": "stream",
          "name": "stdout",
          "text": [
            "ndarray.flags:   C_CONTIGUOUS : True\n",
            "  F_CONTIGUOUS : False\n",
            "  OWNDATA : True\n",
            "  WRITEABLE : True\n",
            "  ALIGNED : True\n",
            "  WRITEBACKIFCOPY : False\n",
            "\n",
            "ndarray.shape: (2, 2)\n",
            "ndarray.strides: (16, 8)\n",
            "ndarray.ndim: 2\n",
            "ndarray.data: <memory at 0x7d83a867a260>\n",
            "ndarray.size: 4\n",
            "ndarray.itemsize: 8\n",
            "ndarray.base: None\n",
            "ndarray.nbytes: 32\n",
            "ndarray.T: [[1 3]\n",
            " [2 4]]\n",
            "ndarray.real: [[1 2]\n",
            " [3 4]]\n",
            "ndarray.imag: [[0 0]\n",
            " [0 0]]\n"
          ]
        }
      ]
    },
    {
      "cell_type": "code",
      "source": [
        "import numpy as np\n",
        "arr = np.array([1, 2, 3, 4, 5, 6])\n",
        "newarr = np.split(arr, 3)\n",
        "print(newarr)\n",
        "\n",
        "arry = np.array_split(arr, 4)\n",
        "print(arry)"
      ],
      "metadata": {
        "colab": {
          "base_uri": "https://localhost:8080/"
        },
        "id": "JB6Y3APSA-7Y",
        "outputId": "8c45d6b6-a794-4fe1-f50e-884b8a352231"
      },
      "execution_count": null,
      "outputs": [
        {
          "output_type": "stream",
          "name": "stdout",
          "text": [
            "[array([1, 2]), array([3, 4]), array([5, 6])]\n",
            "[array([1, 2]), array([3, 4]), array([5]), array([6])]\n"
          ]
        }
      ]
    },
    {
      "cell_type": "code",
      "source": [
        "arr = np.array([1, 2, 3, 4, 5, 6])\n",
        "newarr = np.array_split(arr, 3)\n",
        "print(newarr)"
      ],
      "metadata": {
        "colab": {
          "base_uri": "https://localhost:8080/"
        },
        "id": "Alr3mgCsEGEu",
        "outputId": "a881f3f2-3b6f-4ba2-8073-124f166ca85d"
      },
      "execution_count": null,
      "outputs": [
        {
          "output_type": "stream",
          "name": "stdout",
          "text": [
            "[array([1, 2]), array([3, 4]), array([5, 6])]\n"
          ]
        }
      ]
    },
    {
      "cell_type": "code",
      "source": [
        "from numpy import random\n",
        "x = random.randint(100)\n",
        "print(x)"
      ],
      "metadata": {
        "id": "9V3rbKYcIjmc",
        "outputId": "eb5dca11-bb3d-4792-9792-58a7947e5e38",
        "colab": {
          "base_uri": "https://localhost:8080/"
        }
      },
      "execution_count": null,
      "outputs": [
        {
          "output_type": "stream",
          "name": "stdout",
          "text": [
            "65\n"
          ]
        }
      ]
    },
    {
      "cell_type": "code",
      "source": [
        "import numpy as np\n",
        "\n",
        "array1 = np.array([[1, 2], [3, 4]])\n",
        "array2 = np.array([[5, 6], [7, 8]])\n",
        "\n",
        "row= np.concatenate((array1, array2), axis=0)\n",
        "print(row)\n",
        "\n",
        "col= np.concatenate((array1, array2), axis=1)\n",
        "print(\"\\n\", col)\n"
      ],
      "metadata": {
        "colab": {
          "base_uri": "https://localhost:8080/"
        },
        "id": "Dt__EC_J-Fj4",
        "outputId": "64083353-4bd9-4f86-d972-e4757e0e6da8"
      },
      "execution_count": null,
      "outputs": [
        {
          "output_type": "stream",
          "name": "stdout",
          "text": [
            "[[1 2]\n",
            " [3 4]\n",
            " [5 6]\n",
            " [7 8]]\n",
            "\n",
            " [[1 2 5 6]\n",
            " [3 4 7 8]]\n"
          ]
        }
      ]
    },
    {
      "cell_type": "markdown",
      "source": [],
      "metadata": {
        "id": "cpgx5nVC_sQP"
      }
    },
    {
      "cell_type": "code",
      "source": [
        "import numpy as np\n",
        "arr=np.array([[1,2,3,4],[5,6,7,8],[9,10,11,12]])\n",
        "print(arr[:,:])\n",
        "print(\" \")\n",
        "print(arr[0:2,0:3])\n",
        "print(\" \")\n",
        "print(arr[0:,1:3])\n",
        "print(\" \")\n",
        "print(arr[-1:,])\n",
        "print(\" \")\n",
        "print(arr[-2:-1,-3:-1])\n",
        "print(\" \")\n",
        "print(arr[0:-1,0:-1])"
      ],
      "metadata": {
        "colab": {
          "base_uri": "https://localhost:8080/"
        },
        "id": "D60qhYMW9o6b",
        "outputId": "8c6d3ff5-3b47-486c-f3f2-a763ba554a73"
      },
      "execution_count": null,
      "outputs": [
        {
          "output_type": "stream",
          "name": "stdout",
          "text": [
            "[[ 1  2  3  4]\n",
            " [ 5  6  7  8]\n",
            " [ 9 10 11 12]]\n",
            " \n",
            "[[1 2 3]\n",
            " [5 6 7]]\n",
            " \n",
            "[[ 2  3]\n",
            " [ 6  7]\n",
            " [10 11]]\n",
            " \n",
            "[[ 9 10 11 12]]\n",
            " \n",
            "[[6 7]]\n",
            " \n",
            "[[1 2 3]\n",
            " [5 6 7]]\n"
          ]
        }
      ]
    },
    {
      "cell_type": "code",
      "source": [
        "import numpy as np\n",
        "arr=np.arange(0,41)\n",
        "print(arr[2:23:3])\n"
      ],
      "metadata": {
        "colab": {
          "base_uri": "https://localhost:8080/"
        },
        "id": "WIcVotEfDCxH",
        "outputId": "6ba352bf-ced4-420c-c139-822ea0851317"
      },
      "execution_count": null,
      "outputs": [
        {
          "output_type": "stream",
          "name": "stdout",
          "text": [
            "[ 2  5  8 11 14 17 20]\n"
          ]
        }
      ]
    },
    {
      "cell_type": "code",
      "source": [
        "import numpy as np\n",
        "org_array=np.array([[99,98,97],[96,95,94]])\n",
        "copy_array=org_array\n",
        "org_array[1,2]=13\n",
        "print(org_array)\n",
        "print(copy_array)"
      ],
      "metadata": {
        "colab": {
          "base_uri": "https://localhost:8080/"
        },
        "id": "sG6J7bnpEJpF",
        "outputId": "026abc5a-71c6-4bbd-88d1-13291a4a5a0a"
      },
      "execution_count": null,
      "outputs": [
        {
          "output_type": "stream",
          "name": "stdout",
          "text": [
            "[[99 98 97]\n",
            " [96 95 13]]\n",
            "[[99 98 97]\n",
            " [96 95 13]]\n"
          ]
        }
      ]
    }
  ]
}