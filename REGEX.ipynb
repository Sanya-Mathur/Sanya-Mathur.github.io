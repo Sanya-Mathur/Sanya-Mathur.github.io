{
  "nbformat": 4,
  "nbformat_minor": 0,
  "metadata": {
    "colab": {
      "provenance": [],
      "authorship_tag": "ABX9TyOMiU0/Np54vB2JBq+dqMbY",
      "include_colab_link": true
    },
    "kernelspec": {
      "name": "python3",
      "display_name": "Python 3"
    },
    "language_info": {
      "name": "python"
    }
  },
  "cells": [
    {
      "cell_type": "markdown",
      "metadata": {
        "id": "view-in-github",
        "colab_type": "text"
      },
      "source": [
        "<a href=\"https://colab.research.google.com/github/SanyaMathur0411/SanyaMathur0411.github.io/blob/main/REGEX.ipynb\" target=\"_parent\"><img src=\"https://colab.research.google.com/assets/colab-badge.svg\" alt=\"Open In Colab\"/></a>"
      ]
    },
    {
      "cell_type": "code",
      "execution_count": 1,
      "metadata": {
        "colab": {
          "base_uri": "https://localhost:8080/"
        },
        "id": "FiC6N1or-fNt",
        "outputId": "da871f87-a627-48f4-8733-273ee37b63fa"
      },
      "outputs": [
        {
          "output_type": "stream",
          "name": "stdout",
          "text": [
            "YES! We have a match!\n"
          ]
        }
      ],
      "source": [
        "import re\n",
        "txt=\"The rain in Spain\"\n",
        "x=re.search(\"^The.*Spain$\",txt)\n",
        "if x:\n",
        "    print(\"YES! We have a match!\")\n",
        "else:\n",
        "    print(\"No match\")"
      ]
    },
    {
      "cell_type": "code",
      "source": [
        "import re\n",
        "txt=\"The rain in Spain\"\n",
        "x=re.findall(\"Portugal\",txt)\n",
        "print(x)"
      ],
      "metadata": {
        "colab": {
          "base_uri": "https://localhost:8080/"
        },
        "id": "9eiqNzep-pye",
        "outputId": "2b5bd3b1-abc3-44ad-b1d9-0b6335436cd6"
      },
      "execution_count": 2,
      "outputs": [
        {
          "output_type": "stream",
          "name": "stdout",
          "text": [
            "[]\n"
          ]
        }
      ]
    },
    {
      "cell_type": "code",
      "source": [
        "import re\n",
        "txt=\"The rain in Spain\"\n",
        "x=re.search(\"\\s\",txt)\n",
        "print(\"The first white-space character is located in position:\",x.start())"
      ],
      "metadata": {
        "colab": {
          "base_uri": "https://localhost:8080/"
        },
        "id": "MF11xBLf-vy1",
        "outputId": "5756fe3a-130f-4007-d6dd-d26ac954a054"
      },
      "execution_count": 3,
      "outputs": [
        {
          "output_type": "stream",
          "name": "stdout",
          "text": [
            "The first white-space character is located in position: 3\n"
          ]
        }
      ]
    },
    {
      "cell_type": "code",
      "source": [
        "import re\n",
        "text = \"The cat sat on the mat. The dog barked at the cat. Cats and dogs live in harmony.\"\n",
        "pattern1 = r\"(cat|dog)\"\n",
        "matches1 = re.findall(pattern1, text, re.IGNORECASE)\n",
        "print(\"Occurrences of 'cat' or 'dog':\", matches1)\n",
        "pattern2 = r\"\\b\\w{3}\\b\"\n",
        "matches2 = re.findall(pattern2, text)\n",
        "print(\"Words starting with 'c' and having 3 letters:\", matches2)\n",
        "\n",
        "x=re.search(\"\\s\",text)\n",
        "print(\"The first white-space character is located in position:\",x.start())\n",
        "txt2=re.split(\"\\s\",txt)\n",
        "print(txt2)\n",
        ""
      ],
      "metadata": {
        "colab": {
          "base_uri": "https://localhost:8080/"
        },
        "id": "ajxIkuX8-zpc",
        "outputId": "3683b15e-cc24-4592-aba9-d499bea9bae8"
      },
      "execution_count": 4,
      "outputs": [
        {
          "output_type": "stream",
          "name": "stdout",
          "text": [
            "Occurrences of 'cat' or 'dog': ['cat', 'dog', 'cat', 'Cat', 'dog']\n",
            "Words starting with 'c' and having 3 letters: ['The', 'cat', 'sat', 'the', 'mat', 'The', 'dog', 'the', 'cat', 'and']\n",
            "The first white-space character is located in position: 3\n",
            "['The', 'rain', 'in', 'Spain']\n"
          ]
        }
      ]
    },
    {
      "cell_type": "code",
      "source": [
        "import re\n",
        "txt=\"The rain in Spain\"\n",
        "x=re.search(r\"\\bS\\w+\",txt)\n",
        "print(x.span())\n",
        "print(x.group())\n",
        "print(x.string)"
      ],
      "metadata": {
        "colab": {
          "base_uri": "https://localhost:8080/"
        },
        "id": "X2K_XUpu-1d2",
        "outputId": "89578fa3-bea9-4bcd-8538-0e348572ef68"
      },
      "execution_count": 5,
      "outputs": [
        {
          "output_type": "stream",
          "name": "stdout",
          "text": [
            "(12, 17)\n",
            "Spain\n",
            "The rain in Spain\n"
          ]
        }
      ]
    },
    {
      "cell_type": "code",
      "source": [
        "import re\n",
        "text = \"\"\"\n",
        "Contact us at support@example.com, sales@company.org, or admin@website.net.\n",
        "For more information, visit www.example.com.\n",
        "\"\"\"\n",
        "x=re.search(\"\\s\",text)\n",
        "print(\"The first white-space character is located in position:\",x.start())\n",
        "text2=re.split(\"\\s\",text)\n",
        "print(text2)"
      ],
      "metadata": {
        "colab": {
          "base_uri": "https://localhost:8080/"
        },
        "id": "FfglWuM7-6Lr",
        "outputId": "b4b3a6b1-fb24-4c1b-dc7c-ebd67c0dcf1c"
      },
      "execution_count": 7,
      "outputs": [
        {
          "output_type": "stream",
          "name": "stdout",
          "text": [
            "The first white-space character is located in position: 0\n",
            "['', 'Contact', 'us', 'at', 'support@example.com,', 'sales@company.org,', 'or', 'admin@website.net.', 'For', 'more', 'information,', 'visit', 'www.example.com.', '']\n"
          ]
        }
      ]
    }
  ]
}